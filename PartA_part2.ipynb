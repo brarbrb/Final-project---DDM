{
  "cells": [
    {
      "cell_type": "markdown",
      "metadata": {
        "application/vnd.databricks.v1+cell": {
          "cellMetadata": {},
          "inputWidgets": {},
          "nuid": "cb3dfd22-c074-48a6-a478-554be70530d2",
          "showTitle": false,
          "title": ""
        },
        "id": "CwbKYZvZiq5v"
      },
      "source": [
        "#Part 2"
      ]
    },
    {
      "cell_type": "code",
      "execution_count": null,
      "metadata": {
        "application/vnd.databricks.v1+cell": {
          "cellMetadata": {
            "byteLimit": 2048000,
            "rowLimit": 10000
          },
          "inputWidgets": {},
          "nuid": "4af21078-4c97-4517-ac71-16052c3793a9",
          "showTitle": false,
          "title": ""
        },
        "id": "pxs9uZ8Oiq5x"
      },
      "outputs": [],
      "source": [
        "!pip install pyspark\n",
        "!pip install findspark"
      ]
    },
    {
      "cell_type": "markdown",
      "metadata": {
        "application/vnd.databricks.v1+cell": {
          "cellMetadata": {},
          "inputWidgets": {},
          "nuid": "b86cfde6-c9cc-48f2-b442-3ec0ddcfc185",
          "showTitle": false,
          "title": ""
        },
        "id": "TS8ybd5siq5y"
      },
      "source": [
        "###Reading the Data"
      ]
    },
    {
      "cell_type": "code",
      "execution_count": null,
      "metadata": {
        "application/vnd.databricks.v1+cell": {
          "cellMetadata": {
            "byteLimit": 2048000,
            "rowLimit": 10000
          },
          "inputWidgets": {},
          "nuid": "af143274-ce23-47e8-ae18-02edcf183930",
          "showTitle": false,
          "title": ""
        },
        "id": "jzoIpYlWiq5z"
      },
      "outputs": [],
      "source": [
        "import os\n",
        "import findspark\n",
        "findspark.init()\n",
        "from pyspark.sql.types import *\n",
        "from pyspark.sql.functions import *\n",
        "\n",
        "from pyspark import SparkContext\n",
        "from pyspark.sql import SparkSession\n",
        "\n",
        "def init_spark(app_name: str):\n",
        " spark = SparkSession.builder.appName(app_name).getOrCreate()\n",
        " sc = spark.sparkContext\n",
        " return spark, sc\n",
        "\n",
        "spark = SparkSession.builder.appName(\"my project 1\").getOrCreate()\n",
        "sc = spark.sparkContext\n",
        "sc\n",
        "\n",
        "# Read a CSV into a dataframe\n",
        "def load_PD_file(filename_or_dir, schema) :\n",
        "    dataPath = \"/mnt/ddscoursedatastorage/fwm-stb-data/\" + filename_or_dir\n",
        "    df = spark.read.format(\"csv\")\\\n",
        "      .option(\"header\",\"false\")\\\n",
        "      .option(\"delimiter\", \"|\")\\\n",
        "      .schema(schema)\\\n",
        "      .load(dataPath)\n",
        "    return df\n",
        "\n",
        "# Reading the Reference Parquet files\n",
        "\n",
        "ref_data_df = spark.read.parquet('/ref_data_raw').withColumnRenamed(\"_device-id\",\"device_id\")\\\n",
        "                                                .withColumnRenamed(\"_dma\",\"dma\")\\\n",
        "                                                .withColumnRenamed(\"_dma-code\",\"dma_code\")\\\n",
        "                                                .withColumnRenamed(\"_household-id\",\"household_id\")\\\n",
        "                                                .withColumnRenamed(\"_household-type\",\"household_type\")\\\n",
        "                                                .withColumnRenamed(\"_system-type\",\"system_type\")\\\n",
        "                                                .withColumnRenamed(\"_zipcode\",\"zipcode\")\n",
        "\n",
        "# Reading the Daily Programs CSV file\n",
        "\n",
        "daily_prog_schema =  StructType([StructField('prog_code',StringType()),\n",
        "                     StructField('title',StringType()),\n",
        "                     StructField('genre',StringType()),\n",
        "                     StructField('air_date',StringType()),\n",
        "                     StructField('air_time',StringType()),\n",
        "                     StructField('Duration',FloatType())\n",
        "                                       ])\n",
        "program_data_df = load_PD_file(\"Daily program data/\" , daily_prog_schema  )\n",
        "\n",
        "\n",
        "# Reading the 2.5% sample of the viewing data from a Parquet file\n",
        "\n",
        "viewing_data_df = spark.read.parquet('/sample_viewing_2_5percent')\n",
        "\n",
        "\n",
        "# Reading the Demographic CSV file\n",
        "\n",
        "demographic_schema =  StructType([StructField('household_id',StringType()),\n",
        "                      StructField('household_size',IntegerType()),\n",
        "                      StructField('num_adults',IntegerType()),\n",
        "                      StructField('num_generations',IntegerType()),\n",
        "                      StructField('adult_range',StringType()),\n",
        "                      StructField('marital_status',StringType()),\n",
        "                      StructField('race_code',StringType()),\n",
        "                      StructField('presence_children',StringType()),\n",
        "                      StructField('num_children',IntegerType()),\n",
        "                      StructField('age_children',StringType()), #format like range - 'bitwise'\n",
        "                      StructField('age_range_children',StringType()),\n",
        "                      StructField('dwelling_type',StringType()),\n",
        "                      StructField('home_owner_status',StringType()),\n",
        "                      StructField('length_residence',IntegerType()),\n",
        "                      StructField('home_market_value',StringType()),\n",
        "                      StructField('num_vehicles',IntegerType()),\n",
        "                      StructField('vehicle_make',StringType()),\n",
        "                      StructField('vehicle_model',StringType()),\n",
        "                      StructField('vehicle_year',IntegerType()),\n",
        "                      StructField('net_worth',IntegerType()),\n",
        "                      StructField('income',StringType()),\n",
        "                      StructField('gender_individual',StringType()),\n",
        "                      StructField('age_individual',IntegerType()),\n",
        "                      StructField('education_highest',StringType()),\n",
        "                      StructField('occupation_highest',StringType()),\n",
        "                      StructField('education_1',StringType()),\n",
        "                      StructField('occupation_1',StringType()),\n",
        "                      StructField('age_2',IntegerType()),\n",
        "                      StructField('education_2',StringType()),\n",
        "                      StructField('occupation_2',StringType()),\n",
        "                      StructField('age_3',IntegerType()),\n",
        "                      StructField('education_3',StringType()),\n",
        "                      StructField('occupation_3',StringType()),\n",
        "                      StructField('age_4',IntegerType()),\n",
        "                      StructField('education_4',StringType()),\n",
        "                      StructField('occupation_4',StringType()),\n",
        "                      StructField('age_5',IntegerType()),\n",
        "                      StructField('education_5',StringType()),\n",
        "                      StructField('occupation_5',StringType()),\n",
        "                      StructField('polit_party_regist',StringType()),\n",
        "                      StructField('polit_party_input',StringType()),\n",
        "                      StructField('household_clusters',StringType()),\n",
        "                      StructField('insurance_groups',StringType()),\n",
        "                      StructField('financial_groups',StringType()),\n",
        "                      StructField('green_living',StringType())\n",
        "                                       ])\n",
        "\n",
        "demographic_data_df = load_PD_file(\"demographic/\" , demographic_schema  )\n"
      ]
    },
    {
      "cell_type": "markdown",
      "metadata": {
        "application/vnd.databricks.v1+cell": {
          "cellMetadata": {},
          "inputWidgets": {},
          "nuid": "b5d387f2-601b-4865-8553-51b4940203a3",
          "showTitle": false,
          "title": ""
        },
        "id": "biW8mdo1iq51"
      },
      "source": [
        "##2.1"
      ]
    },
    {
      "cell_type": "code",
      "execution_count": null,
      "metadata": {
        "application/vnd.databricks.v1+cell": {
          "cellMetadata": {
            "byteLimit": 2048000,
            "rowLimit": 10000
          },
          "inputWidgets": {},
          "nuid": "ef6f88dd-4be4-4832-90da-b9829da7a6ca",
          "showTitle": false,
          "title": ""
        },
        "id": "0SFFfOfViq51"
      },
      "outputs": [],
      "source": [
        "#selecting only necessary columns\n",
        "program_data_df_2 = program_data_df.select('prog_code', 'genre')\n",
        "viewing_data_df_2 = viewing_data_df.select('device_id', 'prog_code')\n",
        "ref_data_df_2 = ref_data_df.select('device_id', 'dma').na.drop().dropDuplicates()\n",
        "\n",
        "# Split the genre field and explode the resulting array\n",
        "program_data_df_2 = program_data_df_2.withColumn('genre', explode(split(col('genre'), ','))).distinct()\n",
        "\n",
        "#merging dataframes\n",
        "merged_df = viewing_data_df_2.join(program_data_df_2, on='prog_code', how='inner').join(ref_data_df_2, on='device_id', how='inner')\n",
        "\n",
        "#calculate popularity in dma\n",
        "popularity_df = merged_df.groupBy('dma', 'genre').agg(count('prog_code').alias('popularity')).drop('prog_code').dropDuplicates()\n",
        "\n",
        "#order by popularity\n",
        "popularity_df = popularity_df.orderBy('dma', 'popularity', ascending=False)\n",
        "\n",
        "#saving a pandas dataframe of popularity to save to a csv file\n",
        "popularity_pandas_df = popularity_df.toPandas()\n",
        "\n",
        "#displaying the results\n",
        "display(popularity_pandas_df)\n",
        "\n",
        "#getting all dma codes\n",
        "distinct_dmas = popularity_df.select('dma').distinct().rdd.map(lambda x: x[0]).collect()\n",
        "\n",
        "#creating a seperate dataframe for each dma\n",
        "dma_dataframes = {}\n",
        "\n",
        "for dma in distinct_dmas:\n",
        "    if dma in ['Waco-Temple-Bryan', 'New York', 'Washington, DC (Hagrstwn)']:\n",
        "        dma_dataframes[dma] = popularity_df.filter(col('dma') == dma).orderBy('popularity', ascending=False).limit(5).select('dma', 'genre')\n",
        "\n",
        "#showing most popular genres for each dma\n",
        "for df in dma_dataframes.values():\n",
        "    df.show()"
      ]
    },
    {
      "cell_type": "markdown",
      "metadata": {
        "application/vnd.databricks.v1+cell": {
          "cellMetadata": {},
          "inputWidgets": {},
          "nuid": "f55de959-aeed-4310-a145-0a4ddc43be0b",
          "showTitle": false,
          "title": ""
        },
        "id": "lfgu7whUiq52"
      },
      "source": [
        "##2.2"
      ]
    },
    {
      "cell_type": "markdown",
      "metadata": {
        "application/vnd.databricks.v1+cell": {
          "cellMetadata": {},
          "inputWidgets": {},
          "nuid": "696913a9-c22b-4aa9-ba07-c2767e4de7b1",
          "showTitle": false,
          "title": ""
        },
        "id": "Mx5m1jqXiq52"
      },
      "source": [
        "####Preprocessing"
      ]
    },
    {
      "cell_type": "code",
      "execution_count": null,
      "metadata": {
        "application/vnd.databricks.v1+cell": {
          "cellMetadata": {
            "byteLimit": 2048000,
            "rowLimit": 10000
          },
          "inputWidgets": {},
          "nuid": "3d68f3f7-5473-47f1-ac03-53f215bb50db",
          "showTitle": false,
          "title": ""
        },
        "id": "WV3pfhM1iq53"
      },
      "outputs": [],
      "source": [
        "#selecting columns\n",
        "program_data_df_2 = program_data_df.select('prog_code', 'genre')\n",
        "viewing_data_df_2 = viewing_data_df.select('device_id', 'prog_code')\n",
        "ref_data_df_2 = ref_data_df.select('household_id', 'device_id', 'dma').na.drop().dropDuplicates()\n",
        "demographic_data_df_2 = demographic_data_df.select('household_id', 'net_worth', 'income')\n",
        "\n",
        "#replacing null with 0\n",
        "demographic_data_df_2 = demographic_data_df_2.fillna(0)\n",
        "demographic_data_df_2 = demographic_data_df_2.withColumn('income', when(col('income') != 'null', col('income')).otherwise(0))\n",
        "\n",
        "#fixing values\n",
        "mapping = {'A': 10, 'B': 11, 'C': 12, 'D': 13}\n",
        "\n",
        "demographic_data_df_2 = demographic_data_df_2.withColumn('income',\n",
        "                                when(col('income') == 'A', mapping['A'])\n",
        "                               .when(col('income') == 'B', mapping['B'])\n",
        "                               .when(col('income') == 'C', mapping['C'])\n",
        "                               .when(col('income') == 'D', mapping['D'])\n",
        "                               .otherwise(col('income')))\n",
        "\n",
        "demographic_data_df_2 = demographic_data_df_2.withColumn('income', col('income').cast('integer'))\n",
        "demographic_data_df_2 = demographic_data_df_2.withColumn('net_worth', col('net_worth').cast('integer'))"
      ]
    },
    {
      "cell_type": "markdown",
      "metadata": {
        "application/vnd.databricks.v1+cell": {
          "cellMetadata": {},
          "inputWidgets": {},
          "nuid": "61478b62-02dd-46c3-b89c-70758f358975",
          "showTitle": false,
          "title": ""
        },
        "id": "iMcfyL2hiq53"
      },
      "source": [
        "####Calculating Wealth-Score per DMA"
      ]
    },
    {
      "cell_type": "code",
      "execution_count": null,
      "metadata": {
        "application/vnd.databricks.v1+cell": {
          "cellMetadata": {
            "byteLimit": 2048000,
            "rowLimit": 10000
          },
          "inputWidgets": {},
          "nuid": "5742e633-bbaf-4c36-965c-20cb364726f3",
          "showTitle": false,
          "title": ""
        },
        "id": "DPHNKWobiq53"
      },
      "outputs": [],
      "source": [
        "#finding max net worth\n",
        "max_net_worth = demographic_data_df_2.agg(max('net_worth')).collect()[0][0]\n",
        "\n",
        "#finding max income\n",
        "max_income = demographic_data_df_2.agg(max('income')).collect()[0][0]\n",
        "\n",
        "#matching designated market areas to households\n",
        "demo_ref_df = ref_data_df_2.join(demographic_data_df_2, on='household_id', how='inner').drop('household_id', 'device_id')\n",
        "\n",
        "#calculating average networth per dma\n",
        "avg_net_worth_per_dma = demo_ref_df.groupBy('dma').agg(avg('net_worth').alias('avg_net_worth')).drop('net_worth').distinct()\n",
        "\n",
        "#calculating average income per dma\n",
        "avg_income_per_dma = demo_ref_df.groupBy('dma').agg(avg('income').alias('avg_income')).drop('income').distinct()\n",
        "\n",
        "#adding data to the main dataframe\n",
        "demo_ref_df = demo_ref_df.join(avg_net_worth_per_dma, on='dma').drop('net_worth')\n",
        "demo_ref_df = demo_ref_df.join(avg_income_per_dma, on='dma').drop('income').distinct()\n",
        "\n",
        "#calculating wealth score per dma\n",
        "demo_ref_df = demo_ref_df.withColumn('wealth_score', (col('avg_net_worth')/max_net_worth) + (col('avg_income')/max_income))\n",
        "\n",
        "#dropping unnecessary columns\n",
        "demo_ref_df = demo_ref_df.drop('avg_net_worth', 'avg_income')\n",
        "\n",
        "#ordering DMAs by wealth score\n",
        "dma_by_order = demo_ref_df.orderBy('wealth_score', ascending=False).select('dma').rdd.map(lambda x: x[0]).collect()"
      ]
    },
    {
      "cell_type": "markdown",
      "metadata": {
        "application/vnd.databricks.v1+cell": {
          "cellMetadata": {},
          "inputWidgets": {},
          "nuid": "76fb10f2-665a-4202-8063-7011943feca6",
          "showTitle": false,
          "title": ""
        },
        "id": "VWNgeKOTiq54"
      },
      "source": [
        "####Finding most popular genres per dma"
      ]
    },
    {
      "cell_type": "code",
      "execution_count": null,
      "metadata": {
        "application/vnd.databricks.v1+cell": {
          "cellMetadata": {
            "byteLimit": 2048000,
            "rowLimit": 10000
          },
          "inputWidgets": {},
          "nuid": "94ba926f-6ecd-46ef-8490-12908feafb7a",
          "showTitle": false,
          "title": ""
        },
        "id": "VGal5yTkiq54"
      },
      "outputs": [],
      "source": [
        "# Split the genre field and explode the resulting array\n",
        "program_data_df_2 = program_data_df_2.withColumn('genre', explode(split(col('genre'), ','))).distinct()\n",
        "\n",
        "#saving all genres to a set\n",
        "genres_df = program_data_df_2.select('genre').distinct()\n",
        "available_genres = program_data_df_2.select('genre').distinct().rdd.map(lambda x: x[0]).collect()\n",
        "available_genres = set(available_genres)\n",
        "\n",
        "#getting rid of unnecessary columns\n",
        "ref_data_df_2 = ref_data_df_2.drop('household_id')\n",
        "\n",
        "#merging programs with DMAs\n",
        "merged_df = viewing_data_df_2.join(program_data_df_2, on='prog_code', how='inner').join(ref_data_df_2, on='device_id', how='inner').distinct()\n",
        "\n",
        "#calculate popularity in dma\n",
        "popularity_df = merged_df.groupBy('dma', 'genre').agg(count('prog_code').alias('popularity')).drop('prog_code').dropDuplicates()\n",
        "\n",
        "#Cartesian join between genres and DMAs\n",
        "dma_genre_df = merged_df.select('dma').distinct().crossJoin(genres_df)\n",
        "\n",
        "#adding genres to dma with no score with the popularity score 0\n",
        "popularity_df = dma_genre_df.join(popularity_df, on=['dma', 'genre'], how='left')\n",
        "popularity_df = popularity_df.fillna(0)\n",
        "\n",
        "#order by popularity\n",
        "popularity_df = popularity_df.orderBy('dma', 'popularity', ascending=False)"
      ]
    },
    {
      "cell_type": "markdown",
      "metadata": {
        "application/vnd.databricks.v1+cell": {
          "cellMetadata": {},
          "inputWidgets": {},
          "nuid": "dc8cf2bc-47c6-4be1-833d-c6a0b167e9b2",
          "showTitle": false,
          "title": ""
        },
        "id": "LiWQZZ4Ciq54"
      },
      "source": [
        "####Creating a dataframe of popular genres for each DMA"
      ]
    },
    {
      "cell_type": "code",
      "execution_count": null,
      "metadata": {
        "application/vnd.databricks.v1+cell": {
          "cellMetadata": {
            "byteLimit": 2048000,
            "rowLimit": 10000
          },
          "inputWidgets": {},
          "nuid": "b714d9eb-556f-44d2-96b3-a6b0c643787d",
          "showTitle": false,
          "title": ""
        },
        "id": "JoQW6pNAiq54"
      },
      "outputs": [],
      "source": [
        "#creating a seperate dataframe for each dma\n",
        "dma_dataframes = {}\n",
        "\n",
        "#filling each dataframe with the best genres for that dma\n",
        "for dma in dma_by_order:\n",
        "    dma_dataframes[dma] = popularity_df.filter(col('dma') == dma).orderBy('popularity', ascending=False).select('dma', 'genre')\n",
        "\n",
        "# Dictionary to store selected genres for each DMA\n",
        "selected_genres = {}\n",
        "\n",
        "#iterating over all DMAs and selecting the best genres for each\n",
        "for dma in dma_by_order:\n",
        "    selected_genres[dma] = []\n",
        "    for row in dma_dataframes[dma].select('genre').collect():\n",
        "        genre = row['genre']\n",
        "        if genre in available_genres:\n",
        "            selected_genres[dma].append(genre)\n",
        "            available_genres.remove(genre)\n",
        "\n",
        "            if len(selected_genres[dma]) == 8:\n",
        "                break\n",
        "\n",
        "# Convert the dictionary to a list of tuples\n",
        "selected_genres_list = [(dma, genres) for dma, genres in selected_genres.items()]\n",
        "\n",
        "# Create a DataFrame from the list\n",
        "selected_genres_df = spark.createDataFrame(selected_genres_list, ['dma', 'genre'])\n",
        "\n",
        "#add wealth_result\n",
        "selected_genres_df = selected_genres_df.join(demo_ref_df, on='dma').select('dma', 'wealth_score', 'genre')\n",
        "selected_genres_df = selected_genres_df.orderBy('wealth_score', ascending=False)"
      ]
    },
    {
      "cell_type": "markdown",
      "metadata": {
        "application/vnd.databricks.v1+cell": {
          "cellMetadata": {},
          "inputWidgets": {},
          "nuid": "15889dff-95a4-4367-a731-c917a6e1d61d",
          "showTitle": false,
          "title": ""
        },
        "id": "M1lhR00fiq55"
      },
      "source": [
        "####Displaying results"
      ]
    },
    {
      "cell_type": "code",
      "execution_count": null,
      "metadata": {
        "application/vnd.databricks.v1+cell": {
          "cellMetadata": {
            "byteLimit": 2048000,
            "rowLimit": 10000
          },
          "inputWidgets": {},
          "nuid": "d9789046-fe91-4f01-ba4e-d3ba8d5e1500",
          "showTitle": false,
          "title": ""
        },
        "id": "1EM80Ruyiq55",
        "outputId": "055ce456-c4f2-49f9-8160-ad9d48e8f84b"
      },
      "outputs": [
        {
          "output_type": "display_data",
          "data": {
            "text/html": [
              "<style scoped>\n",
              "  .table-result-container {\n",
              "    max-height: 300px;\n",
              "    overflow: auto;\n",
              "  }\n",
              "  table, th, td {\n",
              "    border: 1px solid black;\n",
              "    border-collapse: collapse;\n",
              "  }\n",
              "  th, td {\n",
              "    padding: 5px;\n",
              "  }\n",
              "  th {\n",
              "    text-align: left;\n",
              "  }\n",
              "</style><div class='table-result-container'><table class='table-result'><thead style='background-color: white'><tr><th>dma</th><th>wealth_score</th><th>genre</th></tr></thead><tbody><tr><td>San Antonio</td><td>1.623931623931624</td><td></td></tr><tr><td>Baltimore</td><td>1.3484309314846228</td><td>Reality, Talk, Sitcom, News, Comedy, Documentary, Drama, Children</td></tr><tr><td>San Francisco-Oak-San Jose</td><td>1.3357808419815185</td><td>Animated, Adventure, Fantasy, Educational, Crime, Action, Sports non-event, Cooking</td></tr><tr><td>Detroit</td><td>1.305826181524095</td><td>Sports event, Crime drama, House/garden, Entertainment, Mystery, Suspense, Newsmagazine, Special</td></tr><tr><td>Austin</td><td>1.2722546588818684</td><td>Game show, Football, Consumer, Interview, Travel, Politics, Law, Public affairs</td></tr><tr><td>Sacramnto-Stkton-Modesto</td><td>1.2359677521362542</td><td>Shopping, Western, Science fiction, Home improvement, Music, Horror, Animals, Outdoors</td></tr><tr><td>Cleveland-Akron (Canton)</td><td>1.211882525608016</td><td>Basketball, Science, History, Baseball, Playoff sports, How-to, Golf, Paranormal</td></tr><tr><td>Harrisburg-Lncstr-Leb-York</td><td>1.2019055299195078</td><td>Medical, Health, Nature, Romance, Sports talk, Auto, Religious, Soap</td></tr><tr><td>Toledo</td><td>1.199510473429358</td><td>Romance-comedy, Comedy-drama, War, Fashion, Docudrama, Auto racing, Weather, Bus./financial</td></tr><tr><td>Philadelphia</td><td>1.1948499023773462</td><td>Hunting, Community, Biography, Hockey, Tennis, Fishing, Soccer, Variety</td></tr><tr><td>Houston</td><td>1.193882983854647</td><td>Spanish, Collectibles, Historical drama, Musical, Auction, Dance, Anthology, Art</td></tr><tr><td>Lexington</td><td>1.191293806480053</td><td>Horse, Technology, Standup, Musical comedy, Mixed martial arts, Parenting, Adults only, Pro wrestling</td></tr><tr><td>Seattle-Tacoma</td><td>1.1870636727174375</td><td>Action sports, Awards, Martial arts, Poker, Boxing, Card games, Aviation, Self improvement</td></tr><tr><td>Augusta-Aiken</td><td>1.133317357616423</td><td>Military, Anime, Agriculture, Softball, Environment, Debate, Parade, Rodeo</td></tr><tr><td>Washington, DC (Hagrstwn)</td><td>1.1256595637556055</td><td>Arts/crafts, Exercise, Event, Gaming, Cheerleading, Motorcycle racing, Bicycle racing, Volleyball</td></tr><tr><td>Portland, OR</td><td>1.1132134840888592</td><td>Shooting, Motorcycle, Archery, Track/field, Motorsports, Gymnastics, Skiing, Figure skating</td></tr><tr><td>Atlanta</td><td>1.1076995068572044</td><td>Equestrian, Snowboarding, Dog show, Miniseries, Drag racing, Wrestling, Boat, Skateboarding</td></tr><tr><td>Little Rock-Pine Bluff</td><td>1.0945827210687897</td><td>Bowling, Diving, Gay/lesbian, Fundraiser, Lacrosse, Swimming, Rugby, Arm wrestling</td></tr><tr><td>Sioux Falls(Mitchell)</td><td>1.0618503283644833</td><td>Performing arts, Computers, Watersports, Triathlon, Pool, Running, Beach volleyball, Music special</td></tr><tr><td>Eureka</td><td>1.0523582190248857</td><td>Intl soccer, Billiards, Holiday special, Curling, Olympics, Weightlifting, Sailing, Water polo</td></tr><tr><td>Miami-Ft. Lauderdale</td><td>1.0476638975689008</td><td>Holiday, Bullfighting, Beach soccer, Boat racing, Canoe, Opera, Water skiing, Cricket</td></tr><tr><td>Dallas-Ft. Worth</td><td>1.0470772298321105</td><td>Surfing, Snowmobile, Kayaking, Yacht racing, Theater, Dog racing, Bobsled, Polo</td></tr><tr><td>Greenville-N.Bern-Washngtn</td><td>1.0435895695516955</td><td>Luge, Field hockey, Holiday-children special, Darts, Speed skating, Table tennis, Fencing, Children-special</td></tr><tr><td>Amarillo</td><td>1.0434148133174257</td><td>Holiday-children, Aerobics, Bicycle, Mountain biking, Skating, Rowing, Badminton, Holiday music special</td></tr><tr><td>Fargo-Valley City</td><td>1.0369700406953026</td><td>Racquet, Squash, Handball, Skeleton, Music talk, Indoor soccer, Ballet, Sumo wrestling</td></tr><tr><td>Odessa-Midland</td><td>1.0282325115492446</td><td>Children-talk, Soap talk, Biathlon, Children-music, Intl hockey, Gaelic football, Hydroplane racing</td></tr><tr><td>Unknown</td><td>1.0251094032334147</td><td></td></tr><tr><td>Rapid City</td><td>1.0195734269453753</td><td></td></tr><tr><td>Bend, OR</td><td>1.0157747727388897</td><td></td></tr><tr><td>Jonesboro</td><td>1.0122793031033677</td><td></td></tr><tr><td>Minot-Bsmrck-Dcknsn(Wlstn)</td><td>1.0089975179746222</td><td></td></tr><tr><td>Erie</td><td>1.000057985132612</td><td></td></tr><tr><td>Phoenix (Prescott)</td><td>0.9932213380489243</td><td></td></tr><tr><td>Springfield, MO</td><td>0.9925997676757556</td><td></td></tr><tr><td>Lubbock</td><td>0.9906986261182973</td><td></td></tr><tr><td>Johnstown-Altoona-St Colge</td><td>0.9905577085714817</td><td></td></tr><tr><td>Shreveport</td><td>0.988649504702096</td><td></td></tr><tr><td>Raleigh-Durham (Fayetvlle)</td><td>0.9883016930671435</td><td></td></tr><tr><td>Lake Charles</td><td>0.9865614159993457</td><td></td></tr><tr><td>St. Joseph</td><td>0.9830801450770885</td><td></td></tr><tr><td>Waco-Temple-Bryan</td><td>0.9818028374525325</td><td></td></tr><tr><td>Kansas City</td><td>0.9762589672561972</td><td></td></tr><tr><td>Wheeling-Steubenville</td><td>0.9662850666500302</td><td></td></tr><tr><td>Oklahoma City</td><td>0.9611474627551798</td><td></td></tr><tr><td>Elmira (Corning)</td><td>0.9575802157769371</td><td></td></tr><tr><td>Columbia-Jefferson City</td><td>0.953915453915454</td><td></td></tr><tr><td>Alexandria, LA</td><td>0.9520001306341062</td><td></td></tr><tr><td>Tyler-Longview(Lfkn&Ncgd)</td><td>0.9509835043705401</td><td></td></tr><tr><td>San Angelo</td><td>0.9507828788049992</td><td></td></tr><tr><td>Sherman-Ada</td><td>0.9407223600771988</td><td></td></tr><tr><td>Parkersburg</td><td>0.9397529783658211</td><td></td></tr><tr><td>Abilene-Sweetwater</td><td>0.9390283083950877</td><td></td></tr><tr><td>Monroe-El Dorado</td><td>0.9388268375243773</td><td></td></tr><tr><td>Victoria</td><td>0.9365545236843642</td><td></td></tr><tr><td>Joplin-Pittsburg</td><td>0.9336507197253917</td><td></td></tr><tr><td>Tulsa</td><td>0.9040458870690001</td><td></td></tr><tr><td>Pittsburgh</td><td>0.8837947068345138</td><td></td></tr><tr><td>Buffalo</td><td>0.8819304349520996</td><td></td></tr><tr><td>Ft. Smith-Fay-Sprngdl-Rgrs</td><td>0.8769928484214198</td><td></td></tr><tr><td>Wilkes Barre-Scranton-Hztn</td><td>0.8722272426877778</td><td></td></tr><tr><td>Charleston-Huntington</td><td>0.8686250596390542</td><td></td></tr><tr><td>New York</td><td>0.855274839522145</td><td></td></tr><tr><td>Wichita Falls & Lawton</td><td>0.8421750663129974</td><td></td></tr><tr><td>Greenwood-Greenville</td><td>0.830316335970617</td><td></td></tr><tr><td>Bluefield-Beckley-Oak Hill</td><td>0.8081844557447915</td><td></td></tr><tr><td>Los Angeles</td><td>0.792887667887668</td><td></td></tr><tr><td>Roanoke-Lynchburg</td><td>0.7655122655122655</td><td></td></tr><tr><td>Memphis</td><td>0.7619667154550875</td><td></td></tr><tr><td>Clarksburg-Weston</td><td>0.5790356394129978</td><td></td></tr><tr><td>Reno</td><td>0.2222222222222222</td><td></td></tr><tr><td>Cincinnati</td><td>0.0</td><td></td></tr></tbody></table></div>"
            ]
          },
          "metadata": {
            "application/vnd.databricks.v1+output": {
              "addedWidgets": {},
              "aggData": [],
              "aggError": "",
              "aggOverflow": false,
              "aggSchema": [],
              "aggSeriesLimitReached": false,
              "aggType": "",
              "arguments": {},
              "columnCustomDisplayInfos": {},
              "data": [
                [
                  "San Antonio",
                  1.623931623931624,
                  ""
                ],
                [
                  "Baltimore",
                  1.3484309314846228,
                  "Reality, Talk, Sitcom, News, Comedy, Documentary, Drama, Children"
                ],
                [
                  "San Francisco-Oak-San Jose",
                  1.3357808419815185,
                  "Animated, Adventure, Fantasy, Educational, Crime, Action, Sports non-event, Cooking"
                ],
                [
                  "Detroit",
                  1.305826181524095,
                  "Sports event, Crime drama, House/garden, Entertainment, Mystery, Suspense, Newsmagazine, Special"
                ],
                [
                  "Austin",
                  1.2722546588818684,
                  "Game show, Football, Consumer, Interview, Travel, Politics, Law, Public affairs"
                ],
                [
                  "Sacramnto-Stkton-Modesto",
                  1.2359677521362542,
                  "Shopping, Western, Science fiction, Home improvement, Music, Horror, Animals, Outdoors"
                ],
                [
                  "Cleveland-Akron (Canton)",
                  1.211882525608016,
                  "Basketball, Science, History, Baseball, Playoff sports, How-to, Golf, Paranormal"
                ],
                [
                  "Harrisburg-Lncstr-Leb-York",
                  1.2019055299195078,
                  "Medical, Health, Nature, Romance, Sports talk, Auto, Religious, Soap"
                ],
                [
                  "Toledo",
                  1.199510473429358,
                  "Romance-comedy, Comedy-drama, War, Fashion, Docudrama, Auto racing, Weather, Bus./financial"
                ],
                [
                  "Philadelphia",
                  1.1948499023773462,
                  "Hunting, Community, Biography, Hockey, Tennis, Fishing, Soccer, Variety"
                ],
                [
                  "Houston",
                  1.193882983854647,
                  "Spanish, Collectibles, Historical drama, Musical, Auction, Dance, Anthology, Art"
                ],
                [
                  "Lexington",
                  1.191293806480053,
                  "Horse, Technology, Standup, Musical comedy, Mixed martial arts, Parenting, Adults only, Pro wrestling"
                ],
                [
                  "Seattle-Tacoma",
                  1.1870636727174375,
                  "Action sports, Awards, Martial arts, Poker, Boxing, Card games, Aviation, Self improvement"
                ],
                [
                  "Augusta-Aiken",
                  1.133317357616423,
                  "Military, Anime, Agriculture, Softball, Environment, Debate, Parade, Rodeo"
                ],
                [
                  "Washington, DC (Hagrstwn)",
                  1.1256595637556055,
                  "Arts/crafts, Exercise, Event, Gaming, Cheerleading, Motorcycle racing, Bicycle racing, Volleyball"
                ],
                [
                  "Portland, OR",
                  1.1132134840888592,
                  "Shooting, Motorcycle, Archery, Track/field, Motorsports, Gymnastics, Skiing, Figure skating"
                ],
                [
                  "Atlanta",
                  1.1076995068572044,
                  "Equestrian, Snowboarding, Dog show, Miniseries, Drag racing, Wrestling, Boat, Skateboarding"
                ],
                [
                  "Little Rock-Pine Bluff",
                  1.0945827210687897,
                  "Bowling, Diving, Gay/lesbian, Fundraiser, Lacrosse, Swimming, Rugby, Arm wrestling"
                ],
                [
                  "Sioux Falls(Mitchell)",
                  1.0618503283644833,
                  "Performing arts, Computers, Watersports, Triathlon, Pool, Running, Beach volleyball, Music special"
                ],
                [
                  "Eureka",
                  1.0523582190248857,
                  "Intl soccer, Billiards, Holiday special, Curling, Olympics, Weightlifting, Sailing, Water polo"
                ],
                [
                  "Miami-Ft. Lauderdale",
                  1.0476638975689008,
                  "Holiday, Bullfighting, Beach soccer, Boat racing, Canoe, Opera, Water skiing, Cricket"
                ],
                [
                  "Dallas-Ft. Worth",
                  1.0470772298321105,
                  "Surfing, Snowmobile, Kayaking, Yacht racing, Theater, Dog racing, Bobsled, Polo"
                ],
                [
                  "Greenville-N.Bern-Washngtn",
                  1.0435895695516955,
                  "Luge, Field hockey, Holiday-children special, Darts, Speed skating, Table tennis, Fencing, Children-special"
                ],
                [
                  "Amarillo",
                  1.0434148133174257,
                  "Holiday-children, Aerobics, Bicycle, Mountain biking, Skating, Rowing, Badminton, Holiday music special"
                ],
                [
                  "Fargo-Valley City",
                  1.0369700406953026,
                  "Racquet, Squash, Handball, Skeleton, Music talk, Indoor soccer, Ballet, Sumo wrestling"
                ],
                [
                  "Odessa-Midland",
                  1.0282325115492446,
                  "Children-talk, Soap talk, Biathlon, Children-music, Intl hockey, Gaelic football, Hydroplane racing"
                ],
                [
                  "Unknown",
                  1.0251094032334147,
                  ""
                ],
                [
                  "Rapid City",
                  1.0195734269453753,
                  ""
                ],
                [
                  "Bend, OR",
                  1.0157747727388897,
                  ""
                ],
                [
                  "Jonesboro",
                  1.0122793031033677,
                  ""
                ],
                [
                  "Minot-Bsmrck-Dcknsn(Wlstn)",
                  1.0089975179746222,
                  ""
                ],
                [
                  "Erie",
                  1.000057985132612,
                  ""
                ],
                [
                  "Phoenix (Prescott)",
                  0.9932213380489243,
                  ""
                ],
                [
                  "Springfield, MO",
                  0.9925997676757556,
                  ""
                ],
                [
                  "Lubbock",
                  0.9906986261182973,
                  ""
                ],
                [
                  "Johnstown-Altoona-St Colge",
                  0.9905577085714817,
                  ""
                ],
                [
                  "Shreveport",
                  0.988649504702096,
                  ""
                ],
                [
                  "Raleigh-Durham (Fayetvlle)",
                  0.9883016930671435,
                  ""
                ],
                [
                  "Lake Charles",
                  0.9865614159993457,
                  ""
                ],
                [
                  "St. Joseph",
                  0.9830801450770885,
                  ""
                ],
                [
                  "Waco-Temple-Bryan",
                  0.9818028374525325,
                  ""
                ],
                [
                  "Kansas City",
                  0.9762589672561972,
                  ""
                ],
                [
                  "Wheeling-Steubenville",
                  0.9662850666500302,
                  ""
                ],
                [
                  "Oklahoma City",
                  0.9611474627551798,
                  ""
                ],
                [
                  "Elmira (Corning)",
                  0.9575802157769371,
                  ""
                ],
                [
                  "Columbia-Jefferson City",
                  0.953915453915454,
                  ""
                ],
                [
                  "Alexandria, LA",
                  0.9520001306341062,
                  ""
                ],
                [
                  "Tyler-Longview(Lfkn&Ncgd)",
                  0.9509835043705401,
                  ""
                ],
                [
                  "San Angelo",
                  0.9507828788049992,
                  ""
                ],
                [
                  "Sherman-Ada",
                  0.9407223600771988,
                  ""
                ],
                [
                  "Parkersburg",
                  0.9397529783658211,
                  ""
                ],
                [
                  "Abilene-Sweetwater",
                  0.9390283083950877,
                  ""
                ],
                [
                  "Monroe-El Dorado",
                  0.9388268375243773,
                  ""
                ],
                [
                  "Victoria",
                  0.9365545236843642,
                  ""
                ],
                [
                  "Joplin-Pittsburg",
                  0.9336507197253917,
                  ""
                ],
                [
                  "Tulsa",
                  0.9040458870690001,
                  ""
                ],
                [
                  "Pittsburgh",
                  0.8837947068345138,
                  ""
                ],
                [
                  "Buffalo",
                  0.8819304349520996,
                  ""
                ],
                [
                  "Ft. Smith-Fay-Sprngdl-Rgrs",
                  0.8769928484214198,
                  ""
                ],
                [
                  "Wilkes Barre-Scranton-Hztn",
                  0.8722272426877778,
                  ""
                ],
                [
                  "Charleston-Huntington",
                  0.8686250596390542,
                  ""
                ],
                [
                  "New York",
                  0.855274839522145,
                  ""
                ],
                [
                  "Wichita Falls & Lawton",
                  0.8421750663129974,
                  ""
                ],
                [
                  "Greenwood-Greenville",
                  0.830316335970617,
                  ""
                ],
                [
                  "Bluefield-Beckley-Oak Hill",
                  0.8081844557447915,
                  ""
                ],
                [
                  "Los Angeles",
                  0.792887667887668,
                  ""
                ],
                [
                  "Roanoke-Lynchburg",
                  0.7655122655122655,
                  ""
                ],
                [
                  "Memphis",
                  0.7619667154550875,
                  ""
                ],
                [
                  "Clarksburg-Weston",
                  0.5790356394129978,
                  ""
                ],
                [
                  "Reno",
                  0.2222222222222222,
                  ""
                ],
                [
                  "Cincinnati",
                  0,
                  ""
                ]
              ],
              "datasetInfos": [],
              "dbfsResultPath": null,
              "isJsonSchema": true,
              "metadata": {},
              "overflow": false,
              "plotOptions": {
                "customPlotOptions": {},
                "displayType": "table",
                "pivotAggregation": null,
                "pivotColumns": null,
                "xColumns": null,
                "yColumns": null
              },
              "removedWidgets": [],
              "schema": [
                {
                  "metadata": "{}",
                  "name": "dma",
                  "type": "\"string\""
                },
                {
                  "metadata": "{}",
                  "name": "wealth_score",
                  "type": "\"double\""
                },
                {
                  "metadata": "{}",
                  "name": "genre",
                  "type": "\"string\""
                }
              ],
              "type": "table"
            }
          }
        },
        {
          "output_type": "stream",
          "name": "stdout",
          "text": [
            "+--------------------+------------------+--------------------+\n|                 dma|      wealth_score|               genre|\n+--------------------+------------------+--------------------+\n|         San Antonio| 1.623931623931624|                  []|\n|           Baltimore|1.3484309314846228|[Reality, Talk, S...|\n|San Francisco-Oak...|1.3357808419815185|[Animated, Advent...|\n|             Detroit| 1.305826181524095|[Sports event, Cr...|\n|              Austin|1.2722546588818684|[Game show, Footb...|\n|Sacramnto-Stkton-...|1.2359677521362542|[Shopping, Wester...|\n|Cleveland-Akron (...| 1.211882525608016|[Basketball, Scie...|\n|Harrisburg-Lncstr...|1.2019055299195078|[Medical, Health,...|\n|              Toledo| 1.199510473429358|[Romance-comedy, ...|\n|        Philadelphia|1.1948499023773462|[Hunting, Communi...|\n|             Houston| 1.193882983854647|[Spanish, Collect...|\n|           Lexington| 1.191293806480053|[Horse, Technolog...|\n|      Seattle-Tacoma|1.1870636727174375|[Action sports, A...|\n|       Augusta-Aiken| 1.133317357616423|[Military, Anime,...|\n|Washington, DC (H...|1.1256595637556055|[Arts/crafts, Exe...|\n|        Portland, OR|1.1132134840888592|[Shooting, Motorc...|\n|             Atlanta|1.1076995068572044|[Equestrian, Snow...|\n|Little Rock-Pine ...|1.0945827210687897|[Bowling, Diving,...|\n|Sioux Falls(Mitch...|1.0618503283644833|[Performing arts,...|\n|              Eureka|1.0523582190248857|[Intl soccer, Bil...|\n|Miami-Ft. Lauderdale|1.0476638975689008|[Holiday, Bullfig...|\n|    Dallas-Ft. Worth|1.0470772298321105|[Surfing, Snowmob...|\n|Greenville-N.Bern...|1.0435895695516955|[Luge, Field hock...|\n|            Amarillo|1.0434148133174257|[Holiday-children...|\n|   Fargo-Valley City|1.0369700406953026|[Racquet, Squash,...|\n+--------------------+------------------+--------------------+\nonly showing top 25 rows\n\n"
          ]
        }
      ],
      "source": [
        "# Convert DataFrame to Pandas DataFrame\n",
        "pandas_df = selected_genres_df.toPandas()\n",
        "pandas_df['genre'] = pandas_df['genre'].apply(lambda x: ', '.join(x))\n",
        "\n",
        "#display results in a csv format to save\n",
        "display(pandas_df)\n",
        "\n",
        "selected_genres_df.show(25)"
      ]
    },
    {
      "cell_type": "markdown",
      "metadata": {
        "application/vnd.databricks.v1+cell": {
          "cellMetadata": {},
          "inputWidgets": {},
          "nuid": "0f7b8330-9802-415c-b123-ddb7848ff371",
          "showTitle": false,
          "title": ""
        },
        "id": "xCPQx4_Eiq55"
      },
      "source": [
        "#Part 3"
      ]
    },
    {
      "cell_type": "code",
      "execution_count": null,
      "metadata": {
        "application/vnd.databricks.v1+cell": {
          "cellMetadata": {
            "byteLimit": 2048000,
            "rowLimit": 10000
          },
          "inputWidgets": {},
          "nuid": "41a65e78-1c72-490a-877d-8f2eed56ff8e",
          "showTitle": false,
          "title": ""
        },
        "id": "JVKOQ9tOiq57"
      },
      "outputs": [],
      "source": [
        "pandas_df_3 = selected_genres_df.toPandas()\n",
        "program_data_df_3 = program_data_df.na.drop()\n",
        "\n",
        "#selecting dma's with not empty genre value\n",
        "non_empty_dmas = pandas_df_3[pandas_df_3['genre'].apply(lambda x: len(x) > 0)]['dma'].unique()\n",
        "\n",
        "#create folder\n",
        "path = f\"/mnt/partitions_211903752_337844252\"\n",
        "dbutils.fs.mkdirs(path)\n",
        "\n",
        "for dma in non_empty_dmas:\n",
        "    #for every such dma creating a folder\n",
        "    dma_path = f\"{path}/{dma}\"\n",
        "    dbutils.fs.mkdirs(dma_path)\n",
        "    # getting the 8 most popular genres for each such dma\n",
        "    genres_per_dma = pandas_df_3[(pandas_df_3['dma'] == dma) & (pandas_df_3['genre'].apply(lambda x: len(x) > 0))]['genre'].tolist()\n",
        "    for genres in genres_per_dma:\n",
        "        #creating dataframes and saving in csv folders\n",
        "        for genre in genres:\n",
        "            #saving relevant records in seperate dataframe\n",
        "            genre_programs_df = program_data_df_3.filter(col('genre') == genre)\n",
        "\n",
        "            #writing dataframe to csv\n",
        "            genre_dir_path = f\"{path}/{genre}\"\n",
        "            genre_programs_df.write.csv(f'{genre_dir_path}.csv')"
      ]
    }
  ],
  "metadata": {
    "application/vnd.databricks.v1+notebook": {
      "dashboards": [],
      "language": "python",
      "notebookMetadata": {
        "pythonIndentUnit": 4
      },
      "notebookName": "Untitled Notebook 2023-06-10 13:59:45",
      "widgets": {}
    },
    "colab": {
      "provenance": []
    }
  },
  "nbformat": 4,
  "nbformat_minor": 0
}