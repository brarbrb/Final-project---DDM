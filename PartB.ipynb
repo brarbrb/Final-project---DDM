{
  "cells": [
    {
      "cell_type": "code",
      "execution_count": null,
      "metadata": {
        "application/vnd.databricks.v1+cell": {
          "cellMetadata": {
            "byteLimit": 2048000,
            "rowLimit": 10000
          },
          "inputWidgets": {},
          "nuid": "8b034ab1-cfd8-457e-9b6f-f99c69d410fc",
          "showTitle": false,
          "title": ""
        },
        "id": "C46NuHNGhTWg"
      },
      "outputs": [],
      "source": [
        "!pip install pyspark\n",
        "!pip install findspark"
      ]
    },
    {
      "cell_type": "code",
      "execution_count": null,
      "metadata": {
        "application/vnd.databricks.v1+cell": {
          "cellMetadata": {
            "byteLimit": 2048000,
            "rowLimit": 10000
          },
          "inputWidgets": {},
          "nuid": "2ab3edd2-7132-4458-9e4a-407d7a291b8e",
          "showTitle": false,
          "title": ""
        },
        "id": "gzYEQ9XihTWk"
      },
      "outputs": [],
      "source": [
        "from pyspark.sql.types import *\n",
        "\n",
        "from pyspark.sql.functions import *\n",
        "\n",
        "from pyspark import SparkContext\n",
        "from pyspark.sql import SparkSession\n",
        "\n",
        "spark = SparkSession.builder.appName(\"my project 2\")\\\n",
        "    .config(\"spark.kryoserializer.buffer.max\", \"512m\")\\\n",
        "    .config('spark.jars.packages', 'org.apache.spark:spark-sql-kafka-0-10_2.12:3.2.0')\\\n",
        "        .getOrCreate()\n",
        "sc = spark.sparkContext\n",
        "\n",
        "\n",
        "for_students_demo_path = \"/mnt/ddscoursedatastorage/ro/fwm-stb-data/proj_B_demographic\"\n",
        "demographic_df = spark.read.parquet(for_students_demo_path)\n",
        "display(demographic_df)"
      ]
    },
    {
      "cell_type": "code",
      "execution_count": null,
      "metadata": {
        "application/vnd.databricks.v1+cell": {
          "cellMetadata": {
            "byteLimit": 2048000,
            "rowLimit": 10000
          },
          "inputWidgets": {},
          "nuid": "cc38faba-0fc7-4184-9e9d-7cb3341da300",
          "showTitle": false,
          "title": ""
        },
        "id": "dof6QItwhTWl"
      },
      "outputs": [],
      "source": [
        "\n",
        "kafka_server = \"kafka96224.eastus.cloudapp.azure.com:29092\"\n",
        "topic='viewstatic'\n",
        "OFFSETS_PER_TRIGGER = 50000\n",
        "SCHEMA = \"device_id STRING, event_date STRING, event_time STRING, station_num STRING, prog_code STRING, household_id LONG\"\n",
        "\n",
        "static_df = spark.read\\\n",
        "                  .format(\"kafka\")\\\n",
        "                  .option(\"kafka.bootstrap.servers\", kafka_server)\\\n",
        "                  .option(\"subscribe\", topic)\\\n",
        "                  .option(\"startingOffsets\", \"earliest\")\\\n",
        "                  .option(\"failOnDataLoss\",False)\\\n",
        "                  .load()\n",
        "\n",
        "static_view_df = static_df.select(from_csv(decode(\"value\", \"US-ASCII\"), schema=SCHEMA).alias(\"value\")).select(\"value.*\").na.drop()\n",
        "display(static_view_df)"
      ]
    },
    {
      "cell_type": "markdown",
      "metadata": {
        "application/vnd.databricks.v1+cell": {
          "cellMetadata": {
            "byteLimit": 2048000,
            "rowLimit": 10000
          },
          "inputWidgets": {},
          "nuid": "0c52875d-c42d-4aa5-9ebd-939d1e55c3ed",
          "showTitle": false,
          "title": ""
        },
        "id": "ZlxGFgFihTWm"
      },
      "source": [
        "## **Normalizing Columns**"
      ]
    },
    {
      "cell_type": "code",
      "execution_count": null,
      "metadata": {
        "application/vnd.databricks.v1+cell": {
          "cellMetadata": {
            "byteLimit": 2048000,
            "rowLimit": 10000
          },
          "inputWidgets": {},
          "nuid": "525d73ab-0e82-4e7b-b9d1-aed12bdc8e40",
          "showTitle": false,
          "title": ""
        },
        "id": "yzVjn3pnhTWo"
      },
      "outputs": [],
      "source": [
        "from pyspark.ml.feature import MaxAbsScaler, VectorAssembler\n",
        "from pyspark.sql import SparkSession\n",
        "\n",
        "\n",
        "# Columns to normalize\n",
        "columns_to_normalize = ['household_size', 'num_adults', 'num_generations', 'length_residence', 'home_market_value', 'net_worth', 'education_highest']\n",
        "\n",
        "# Dictionary to store max values\n",
        "max_values = {}\n",
        "\n",
        "# Calculate and save max values\n",
        "for c in columns_to_normalize:\n",
        "    max_value = demographic_df.agg(max(col(c))).collect()[0][0]\n",
        "    max_values[c] = max_value\n",
        "\n",
        "# Normalize columns\n",
        "for c in columns_to_normalize:\n",
        "    demographic_df = demographic_df.withColumn(c, col(c) / max_values[c])"
      ]
    },
    {
      "cell_type": "markdown",
      "metadata": {
        "application/vnd.databricks.v1+cell": {
          "cellMetadata": {
            "byteLimit": 2048000,
            "rowLimit": 10000
          },
          "inputWidgets": {},
          "nuid": "c51aa07d-0086-496e-8905-750ff55ddb01",
          "showTitle": false,
          "title": ""
        },
        "id": "TGlCzHQ9hTWo"
      },
      "source": [
        "## **One-Hot-Encoding for Categorical Variables**"
      ]
    },
    {
      "cell_type": "code",
      "execution_count": null,
      "metadata": {
        "application/vnd.databricks.v1+cell": {
          "cellMetadata": {
            "byteLimit": 2048000,
            "rowLimit": 10000
          },
          "inputWidgets": {},
          "nuid": "0590aa77-b14a-4498-93b9-ae45ab5d0fac",
          "showTitle": false,
          "title": ""
        },
        "id": "mmwyH7IKhTWp"
      },
      "outputs": [],
      "source": [
        "from pyspark.ml.feature import StringIndexer, OneHotEncoder\n",
        "from pyspark.ml import Pipeline\n",
        "\n",
        "# Define the columns to be one-hot encoded\n",
        "columns_to_encode = ['marital_status', 'race_code', 'dwelling_type', 'home_owner_status', 'gender_individual']\n",
        "indexed = [f\"{col}_index\" for col in columns_to_encode]\n",
        "encoded = [f\"{col}_vec\" for col in columns_to_encode]\n",
        "\n",
        "#create pipeline\n",
        "transformer_pipeline = Pipeline(stages=[\n",
        "    StringIndexer(inputCols = columns_to_encode, outputCols=indexed),\n",
        "    OneHotEncoder(inputCols=indexed, outputCols=encoded)\n",
        "])\n",
        "\n",
        "\n",
        "#create model\n",
        "model = transformer_pipeline.fit(demographic_df)\n",
        "\n",
        "#transform dataframe\n",
        "encoded_df = model.transform(demographic_df)\n",
        "\n",
        "#get rid of unnecessary columns\n",
        "demographic_df = encoded_df.drop(*columns_to_encode, *indexed)"
      ]
    },
    {
      "cell_type": "markdown",
      "metadata": {
        "application/vnd.databricks.v1+cell": {
          "cellMetadata": {
            "byteLimit": 2048000,
            "rowLimit": 10000
          },
          "inputWidgets": {},
          "nuid": "e6279c47-b3d9-457b-b704-0bfbbf74dd95",
          "showTitle": false,
          "title": ""
        },
        "id": "iqjb9XbjhTWq"
      },
      "source": [
        "## **Combining all columns into one feature vector**"
      ]
    },
    {
      "cell_type": "code",
      "execution_count": null,
      "metadata": {
        "application/vnd.databricks.v1+cell": {
          "cellMetadata": {
            "byteLimit": 2048000,
            "rowLimit": 10000
          },
          "inputWidgets": {},
          "nuid": "355a1599-6ced-4f7f-ba36-74969ff85d9a",
          "showTitle": false,
          "title": ""
        },
        "id": "_DrfXzmfhTWq",
        "outputId": "5b6ff846-79c0-4293-f2cc-d61a02fa423c"
      },
      "outputs": [
        {
          "output_type": "stream",
          "name": "stdout",
          "text": [
            "['household_size', 'num_adults', 'num_generations', 'length_residence', 'home_market_value', 'net_worth', 'education_highest', 'marital_status_vec', 'race_code_vec', 'dwelling_type_vec', 'home_owner_status_vec', 'gender_individual_vec']\n+------------+--------------------------------------------------------------------------------------------------------------------------------+\n|household_id|dense_features                                                                                                                  |\n+------------+--------------------------------------------------------------------------------------------------------------------------------+\n|85          |[0.2222222222222222,0.16666666666666666,0.6666666666666666,1.0,0.125,0.05,0.25,0.0,0.0,0.0,1.0,0.0,0.0,1.0,1.0,0.0]             |\n|2073        |[0.1111111111111111,0.16666666666666666,0.6666666666666666,1.0,0.15,0.1,0.25,1.0,0.0,0.0,0.0,0.0,1.0,1.0,1.0,0.0]               |\n|2523        |[0.7777777777777778,1.0,1.0,1.0,0.1,0.1,0.5,1.0,0.0,0.0,1.0,0.0,0.0,1.0,1.0,1.0]                                                |\n|2717        |[0.3333333333333333,0.3333333333333333,0.6666666666666666,0.7333333333333333,0.125,0.2,0.75,0.0,1.0,0.0,1.0,0.0,0.0,1.0,1.0,1.0]|\n|3364        |[0.2222222222222222,0.3333333333333333,0.6666666666666666,1.0,0.1,0.1,0.25,1.0,0.0,0.0,1.0,0.0,0.0,1.0,1.0,1.0]                 |\n|4046        |[0.4444444444444444,0.5,1.0,0.4,0.075,0.05,0.25,1.0,0.0,0.0,1.0,0.0,0.0,1.0,1.0,0.0]                                            |\n|4303        |[0.1111111111111111,0.16666666666666666,0.3333333333333333,1.0,0.15,0.2,0.25,0.0,1.0,0.0,1.0,0.0,0.0,1.0,1.0,1.0]               |\n+------------+--------------------------------------------------------------------------------------------------------------------------------+\nonly showing top 7 rows\n\n"
          ]
        }
      ],
      "source": [
        "#getting all columns except for household_id\n",
        "cols = demographic_df.columns\n",
        "cols.remove('household_id')\n",
        "print(cols)\n",
        "\n",
        "#creating the vector assembler\n",
        "assembler = VectorAssembler(inputCols=cols, outputCol='features')\n",
        "\n",
        "# Apply the VectorAssembler to the DataFrame\n",
        "features_df = assembler.transform(demographic_df)\n",
        "\n",
        "#getting rid of all columns accept for featuer vector\n",
        "demographic_df = features_df.select('household_id', 'features').withColumnRenamed('features', 'dense_features')\n",
        "\n",
        "demographic_df.show(7, truncate=False)"
      ]
    },
    {
      "cell_type": "markdown",
      "metadata": {
        "application/vnd.databricks.v1+cell": {
          "cellMetadata": {
            "byteLimit": 2048000,
            "rowLimit": 10000
          },
          "inputWidgets": {},
          "nuid": "2373f809-2e10-4628-8901-ec554ea69610",
          "showTitle": false,
          "title": ""
        },
        "id": "CsOeItOohTWr"
      },
      "source": [
        "## **Implementing PCA with k=2**"
      ]
    },
    {
      "cell_type": "code",
      "execution_count": null,
      "metadata": {
        "application/vnd.databricks.v1+cell": {
          "cellMetadata": {
            "byteLimit": 2048000,
            "rowLimit": 10000
          },
          "inputWidgets": {},
          "nuid": "c1703cbd-9dca-4949-be97-f1f29ddb6fb2",
          "showTitle": false,
          "title": ""
        },
        "id": "T0FnWi7VhTWr",
        "outputId": "9f5046a7-dc7a-41ba-db5d-a18c7896efe1"
      },
      "outputs": [
        {
          "output_type": "stream",
          "name": "stdout",
          "text": [
            "+--------------------+----------------------+\n|x_col               |y_col                 |\n+--------------------+----------------------+\n|-0.35625542326615856|-0.11097025338253631  |\n|-1.0925316168664254 |0.12397733233143128   |\n|-1.4149098090986307 |-0.9701798366702089   |\n|0.06329368821084108 |-1.158369672110097    |\n|-1.2929454215296108 |-0.9714139901152653   |\n|-1.1192228102668804 |-0.0063753503650831895|\n|0.07476265653874331 |-1.1529793790408362   |\n+--------------------+----------------------+\nonly showing top 7 rows\n\nOut[7]: <AxesSubplot:xlabel='x_col', ylabel='y_col'>"
          ]
        },
        {
          "output_type": "display_data",
          "data": {
            "image/png": "[encoded data removed]"
          },
          "metadata": {
            "application/vnd.databricks.v1+output": {
              "addedWidgets": {},
              "arguments": {},
              "data": "data:image/png;base64,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\n",
              "datasetInfos": [],
              "metadata": {},
              "removedWidgets": [],
              "type": "image"
            }
          }
        }
      ],
      "source": [
        "from pyspark.ml.feature import PCA\n",
        "from pyspark.ml.functions import vector_to_array\n",
        "\n",
        "\n",
        "#Create a VectorAssembler to combine the features into a vector column\n",
        "assembler = VectorAssembler(inputCols=['dense_features'], outputCol='features')\n",
        "assembled_df = assembler.transform(demographic_df).drop('dense_features')\n",
        "\n",
        "#Apply PCA to the assembled DataFrame\n",
        "pca = PCA(k=2, inputCol='features', outputCol='pca_features')\n",
        "model = pca.fit(assembled_df)\n",
        "pca_df = model.transform(assembled_df)\n",
        "\n",
        "# Convert 'pca_features' to an array of doubles\n",
        "pca_df = pca_df.withColumn('pca_array', vector_to_array('pca_features')).drop('pca_features')\n",
        "\n",
        "# Extract the individual elements from the array\n",
        "pca_df = pca_df.withColumn('x_col', col('pca_array')[0])\n",
        "pca_df = pca_df.withColumn('y_col', col('pca_array')[1]).select('x_col', 'y_col')\n",
        "\n",
        "#showing top 7 rows\n",
        "pca_df.show(7, truncate=False)\n",
        "\n",
        "#visualize resutls\n",
        "pca_df.toPandas().plot.scatter(x='x_col', y='y_col')"
      ]
    },
    {
      "cell_type": "markdown",
      "metadata": {
        "application/vnd.databricks.v1+cell": {
          "cellMetadata": {
            "byteLimit": 2048000,
            "rowLimit": 10000
          },
          "inputWidgets": {},
          "nuid": "f72fb16b-62fd-4032-855e-26daa7b1b0d2",
          "showTitle": false,
          "title": ""
        },
        "id": "aYm9WfhPhTWr"
      },
      "source": [
        "## **Appying K-means**"
      ]
    },
    {
      "cell_type": "code",
      "execution_count": null,
      "metadata": {
        "application/vnd.databricks.v1+cell": {
          "cellMetadata": {
            "byteLimit": 2048000,
            "rowLimit": 10000
          },
          "inputWidgets": {},
          "nuid": "720edd86-37bc-4516-b63b-1e89387b89fb",
          "showTitle": false,
          "title": ""
        },
        "id": "dVkXIeEBhTWs",
        "outputId": "f069ef50-73bc-4a1a-d0c1-3f79b30eadf2"
      },
      "outputs": [
        {
          "output_type": "stream",
          "name": "stdout",
          "text": [
            "+------------+----------+-----------------+\n|household_id|prediction|centroid_distance|\n+------------+----------+-----------------+\n|4687979     |0         |0.65198183       |\n|4687567     |0         |0.5447349        |\n|4196636     |0         |0.3762206        |\n|4147377     |0         |0.20357932       |\n|4137263     |0         |1.0171916        |\n|4112714     |0         |1.0313226        |\n|4109225     |0         |1.037621         |\n+------------+----------+-----------------+\nonly showing top 7 rows\n\n"
          ]
        }
      ],
      "source": [
        "from os import truncate\n",
        "from pyspark.ml.clustering import KMeans\n",
        "from pyspark.sql.window import Window\n",
        "from pyspark.sql.functions import sqrt, sum, pow, col, monotonically_increasing_id\n",
        "from pyspark.ml.feature import VectorAssembler\n",
        "from pyspark.ml.linalg import Vector, Vectors, VectorUDT\n",
        "from pyspark.sql.types import FloatType\n",
        "\n",
        "\n",
        "demographic_df = demographic_df.withColumnRenamed('dense_features', 'features').withColumn('features', vector_to_array('features'))\n",
        "\n",
        "# Apply K-means clustering with k=6 and seed=3\n",
        "kmeans = KMeans(k=6, seed=3)\n",
        "model = kmeans.fit(demographic_df)\n",
        "clustered_df = model.transform(demographic_df)\n",
        "\n",
        "# Collect centroids\n",
        "centroids = model.clusterCenters()\n",
        "\n",
        "# Create a list of rows with the centroids\n",
        "rows = [(Vectors.dense(c),) for c in centroids]\n",
        "\n",
        "# Create a DataFrame from the list of rows\n",
        "centroids_df = spark.createDataFrame(rows, [\"centroid\"])\n",
        "\n",
        "# Add id to each centroid\n",
        "centroids_df = centroids_df.rdd.map(lambda x: x.centroid).zipWithIndex().toDF(['centroid', 'c_id'])\n",
        "\n",
        "# Joining DataFrames\n",
        "clustered_df = clustered_df.join(centroids_df, clustered_df[\"prediction\"] == centroids_df[\"c_id\"]).select('household_id', 'features', 'centroid', 'prediction')\n",
        "\n",
        "euclidean_distance = udf(lambda v1, v2: float(sqrt(Vectors.squared_distance(v1, v2))), FloatType())\n",
        "\n",
        "# Define a UDF to convert Vector to Array\n",
        "vector_to_array_udf = udf(lambda v: v.toArray().tolist(), ArrayType(DoubleType()))\n",
        "\n",
        "# Define a UDF to convert a list to a dense Vector\n",
        "list_to_dense_vector_udf = udf(lambda lst: Vectors.dense(lst), VectorUDT())\n",
        "\n",
        "# Apply the UDF to create a new dense Vector column\n",
        "clustered_df = clustered_df.withColumn('features', list_to_dense_vector_udf('features'))\n",
        "\n",
        "# Define a window specification to calculate the centroid distance\n",
        "window = Window.partitionBy(\"prediction\")\n",
        "\n",
        "# Define a UDF to calculate the centroid distance\n",
        "euclidean_distance = udf(lambda v1, v2: float(Vectors.squared_distance(Vectors.dense(v1), Vectors.dense(v2))), FloatType())\n",
        "\n",
        "# Add a new column that contains the distance of each household id from its centroid\n",
        "df = clustered_df.withColumn(\"centroid_distance\", euclidean_distance(col('features'), col('centroid'))).drop('features', 'centroid')\n",
        "\n",
        "# Show 7 rows from the resulting DataFrame\n",
        "df.show(7, truncate=False)"
      ]
    },
    {
      "cell_type": "markdown",
      "metadata": {
        "application/vnd.databricks.v1+cell": {
          "cellMetadata": {
            "byteLimit": 2048000,
            "rowLimit": 10000
          },
          "inputWidgets": {},
          "nuid": "509e1dce-48ca-4582-8990-d17e9c7c1df9",
          "showTitle": false,
          "title": ""
        },
        "id": "DGK0KcJ-hTWs"
      },
      "source": [
        "## **Calculating Subsets**"
      ]
    },
    {
      "cell_type": "code",
      "execution_count": null,
      "metadata": {
        "application/vnd.databricks.v1+cell": {
          "cellMetadata": {
            "byteLimit": 2048000,
            "rowLimit": 10000
          },
          "inputWidgets": {},
          "nuid": "f1b7b91d-9806-4aac-82d9-6a8a2c11c6c6",
          "showTitle": false,
          "title": ""
        },
        "id": "fJjFJ512hTWs"
      },
      "outputs": [],
      "source": [
        "#creating window\n",
        "window = window.partitionBy('prediction').orderBy('centroid_distance')\n",
        "\n",
        "#enumerate rows for each cluster\n",
        "df = df.withColumn('row_number', row_number().over(window))\n",
        "\n",
        "subsets = {}\n",
        "\n",
        "for label in [0,1,2,3,4,5]:\n",
        "  for num in [1,3,17]:\n",
        "    filtered_df = df.filter((col('prediction') == label) & (col('row_number')%num == 0))\n",
        "    subsets[f\"label{label}_dev{num}\"] = filtered_df"
      ]
    },
    {
      "cell_type": "markdown",
      "metadata": {
        "application/vnd.databricks.v1+cell": {
          "cellMetadata": {
            "byteLimit": 2048000,
            "rowLimit": 10000
          },
          "inputWidgets": {},
          "nuid": "57a48d84-d3fd-4d45-a900-db8a09bb8527",
          "showTitle": false,
          "title": ""
        },
        "id": "u_A_5CTahTWs"
      },
      "source": [
        "## **Checking Clustering Quality**"
      ]
    },
    {
      "cell_type": "code",
      "execution_count": null,
      "metadata": {
        "application/vnd.databricks.v1+cell": {
          "cellMetadata": {
            "byteLimit": 2048000,
            "rowLimit": 10000
          },
          "inputWidgets": {},
          "nuid": "7b85d40b-1279-4f27-bc2a-aee27c49e25d",
          "showTitle": false,
          "title": ""
        },
        "id": "T75ISr11hTWt",
        "outputId": "68fc0b97-4063-4e60-ede8-aefe1bd9c986"
      },
      "outputs": [
        {
          "output_type": "stream",
          "name": "stdout",
          "text": [
            "\nlabel0_dev1\n\n+-----------+-------------------+\n|station_num|diff_rank          |\n+-----------+-------------------+\n|16374      |0.15923312579402493|\n|60179      |0.14842073350135188|\n|14902      |0.11097756387408242|\n|11221      |0.11008892738106524|\n|49788      |0.10625692103643791|\n|61522      |0.10264767102404004|\n|11069      |0.08976342159548512|\n+-----------+-------------------+\nonly showing top 7 rows\n\n\nlabel0_dev3\n\n+-----------+-------------------+\n|station_num|diff_rank          |\n+-----------+-------------------+\n|61522      |0.18952572513391608|\n|11221      |0.1314322885632282 |\n|16374      |0.12561276730699822|\n|12574      |0.1104979334281202 |\n|11765      |0.10076044779147247|\n|32677      |0.09119529101194188|\n|14909      |0.0886375863169988 |\n+-----------+-------------------+\nonly showing top 7 rows\n\n\nlabel0_dev17\n\n+-----------+-------------------+\n|station_num|diff_rank          |\n+-----------+-------------------+\n|16374      |0.6397568153159652 |\n|61522      |0.17652513333095343|\n|49529      |0.1595942877409955 |\n|50338      |0.15841551701986226|\n|14902      |0.14446751030945126|\n|11344      |0.1440651307105309 |\n|31316      |0.1437165679978401 |\n+-----------+-------------------+\nonly showing top 7 rows\n\n\nlabel1_dev1\n\n+-----------+-------------------+\n|station_num|diff_rank          |\n+-----------+-------------------+\n|60179      |0.2722119018380882 |\n|16374      |0.16436943002324877|\n|19606      |0.1553240200859785 |\n|11661      |0.12009206177267501|\n|14771      |0.11737229337020638|\n|57708      |0.11567424946744015|\n|11713      |0.11211306315569408|\n+-----------+-------------------+\nonly showing top 7 rows\n\n\nlabel1_dev3\n\n+-----------+-------------------+\n|station_num|diff_rank          |\n+-----------+-------------------+\n|60179      |0.3068077733092558 |\n|16374      |0.184206860769617  |\n|58515      |0.15093142048562624|\n|32645      |0.1399718007118611 |\n|11661      |0.1349262356510263 |\n|19606      |0.12076763536116945|\n|11150      |0.11909128262860746|\n+-----------+-------------------+\nonly showing top 7 rows\n\n\nlabel1_dev17\n\n+-----------+-------------------+\n|station_num|diff_rank          |\n+-----------+-------------------+\n|11150      |0.28016976421889006|\n|60048      |0.2660125519069706 |\n|16374      |0.2578523168101692 |\n|57708      |0.2554112116327601 |\n|60179      |0.20610741323780601|\n|10142      |0.16569662433110066|\n|11006      |0.16456687087402022|\n+-----------+-------------------+\nonly showing top 7 rows\n\n\nlabel2_dev1\n\n+-----------+-------------------+\n|station_num|diff_rank          |\n+-----------+-------------------+\n|15433      |0.11791950188739703|\n|10145      |0.10630224656836074|\n|11865      |0.08286711119238352|\n|10510      |0.07806408039842058|\n|11187      |0.0738676106597328 |\n|21762      |0.07351547418256477|\n|34240      |0.07267485985629957|\n+-----------+-------------------+\nonly showing top 7 rows\n\n\nlabel2_dev3\n\n+-----------+-------------------+\n|station_num|diff_rank          |\n+-----------+-------------------+\n|74796      |0.15035820956352364|\n|35859      |0.13287445765493483|\n|12500      |0.1296731717623219 |\n|47540      |0.10788054340826697|\n|15433      |0.10685636304467305|\n|16615      |0.10426790471695702|\n|21762      |0.09782100845352543|\n+-----------+-------------------+\nonly showing top 7 rows\n\n\nlabel2_dev17\n\n+-----------+-------------------+\n|station_num|diff_rank          |\n+-----------+-------------------+\n|10142      |0.46517212800602126|\n|14909      |0.4251437463560687 |\n|11069      |0.3097072984502858 |\n|15433      |0.2586844758898119 |\n|32645      |0.25488427097397226|\n|12574      |0.24182903574103987|\n|14771      |0.21665864190205686|\n+-----------+-------------------+\nonly showing top 7 rows\n\n\nlabel3_dev1\n\n+-----------+-------------------+\n|station_num|diff_rank          |\n+-----------+-------------------+\n|12131      |1.056068359926223  |\n|10222      |0.7488988720765152 |\n|11118      |0.7024079960894666 |\n|10171      |0.64983723941455   |\n|59684      |0.5041490318723634 |\n|44714      |0.40364589844594684|\n|10730      |0.35146801237026104|\n+-----------+-------------------+\nonly showing top 7 rows\n\n\nlabel3_dev3\n\n+-----------+-------------------+\n|station_num|diff_rank          |\n+-----------+-------------------+\n|12131      |1.0607052283766711 |\n|11118      |0.912608314267651  |\n|10222      |0.8015671753156356 |\n|10171      |0.7153469831738952 |\n|59684      |0.529732490796629  |\n|31738      |0.43219795577838854|\n|10559      |0.42348170305908905|\n+-----------+-------------------+\nonly showing top 7 rows\n\n\nlabel3_dev17\n\n+-----------+------------------+\n|station_num|diff_rank         |\n+-----------+------------------+\n|12131      |1.0234784768991558|\n|10222      |0.7779877862494796|\n|10153      |0.6911901341119706|\n|10239      |0.6283013740968646|\n|21883      |0.6108827814030224|\n|65732      |0.6034268584642449|\n|18151      |0.6033957157229937|\n+-----------+------------------+\nonly showing top 7 rows\n\n\nlabel4_dev1\n\n+-----------+------------------+\n|station_num|diff_rank         |\n+-----------+------------------+\n|35513      |1.1901430650335738|\n|70387      |0.945459560515887 |\n|11706      |0.8962938474500584|\n|10918      |0.8507134976471332|\n|12131      |0.7687667798064091|\n|10179      |0.7128876721695723|\n|10171      |0.6626916471313644|\n+-----------+------------------+\nonly showing top 7 rows\n\n\nlabel4_dev3\n\n+-----------+------------------+\n|station_num|diff_rank         |\n+-----------+------------------+\n|35513      |1.0466959001927876|\n|70387      |1.0156817370292308|\n|11706      |0.9684001607582162|\n|11561      |0.8224357152310143|\n|10918      |0.7096936794698633|\n|10642      |0.6643164050717101|\n|10179      |0.6049728868361031|\n+-----------+------------------+\nonly showing top 7 rows\n\n\nlabel4_dev17\n\n+-----------+------------------+\n|station_num|diff_rank         |\n+-----------+------------------+\n|12131      |1.3146392961412603|\n|35513      |1.2172244203346332|\n|10918      |1.164089290581177 |\n|70387      |1.062059096773214 |\n|11706      |0.871568429104588 |\n|10171      |0.867621561242752 |\n|16615      |0.846184873979661 |\n+-----------+------------------+\nonly showing top 7 rows\n\n\nlabel5_dev1\n\n+-----------+-------------------+\n|station_num|diff_rank          |\n+-----------+-------------------+\n|60179      |0.2987210477817668 |\n|49788      |0.23767370375439967|\n|59684      |0.14301584761738728|\n|32645      |0.11185536490272607|\n|99995      |0.09096949902615714|\n|58646      |0.08850283040695028|\n|14902      |0.08600050175988172|\n+-----------+-------------------+\nonly showing top 7 rows\n\n\nlabel5_dev3\n\n+-----------+-------------------+\n|station_num|diff_rank          |\n+-----------+-------------------+\n|60179      |0.31689998540314757|\n|16374      |0.2484973008937108 |\n|59684      |0.17374489344753896|\n|99995      |0.15504415752739498|\n|58646      |0.12977860409759034|\n|49788      |0.125704830361814  |\n|64241      |0.12549575178737682|\n+-----------+-------------------+\nonly showing top 7 rows\n\n\nlabel5_dev17\n\n+-----------+-------------------+\n|station_num|diff_rank          |\n+-----------+-------------------+\n|14771      |0.6193879353595804 |\n|60179      |0.560084678535067  |\n|51514      |0.3554313247002477 |\n|11713      |0.3102366884945918 |\n|56905      |0.30160193363316257|\n|50747      |0.28738229982070373|\n|46737      |0.278856483663731  |\n+-----------+-------------------+\nonly showing top 7 rows\n\n"
          ]
        }
      ],
      "source": [
        "#count viewing events per station\n",
        "df_with_count = static_view_df.groupBy('station_num').agg(count('*').alias('count'))\n",
        "\n",
        "#summing viewing events\n",
        "df_with_sum = df_with_count.agg(sum('count').alias('sum')).distinct()\n",
        "\n",
        "#adding data do counting df\n",
        "df_with_count = df_with_count.join(df_with_sum, how='left')\n",
        "\n",
        "#calculating percentage per station for general public\n",
        "df_with_percentage_gp = df_with_count.withColumn('percentage_general_public', (col('count')/col('sum')) * 100)\n",
        "\n",
        "\n",
        "for key, df in subsets.items():\n",
        "\n",
        "  print(f\"\\n{key}\\n\")\n",
        "\n",
        "  #join processed demographic and viewing data\n",
        "  joined_df = df.join(static_view_df, on='household_id', how='inner')\n",
        "\n",
        "  #count viewing events per station per subset\n",
        "  df_with_count = joined_df.groupBy('station_num').agg(count('*').alias('count'))\n",
        "\n",
        "  #summing viewing events per subset\n",
        "  df_with_sum = df_with_count.agg(sum('count').alias('sum')).distinct()\n",
        "\n",
        "  #adding data do counting df\n",
        "  df_with_count = df_with_count.join(df_with_sum, how='left')\n",
        "\n",
        "  #calculating percentage per station per subset\n",
        "  df_with__percentage_pc = df_with_count.withColumn('percentage_subset', (col('count')/col('sum')) * 100)\n",
        "\n",
        "  #calculating diff-rank measure\n",
        "  diff_rank_df = df_with__percentage_pc.join(df_with_percentage_gp, on='station_num', how='inner').distinct()\n",
        "  diff_rank_df = diff_rank_df.withColumn('diff_rank', col('percentage_subset') - col('percentage_general_public')).\\\n",
        "                                                select('station_num', 'diff_rank').orderBy(col('diff_rank').desc())\n",
        "\n",
        "  diff_rank_df.show(7, truncate=False)"
      ]
    },
    {
      "cell_type": "markdown",
      "metadata": {
        "application/vnd.databricks.v1+cell": {
          "cellMetadata": {
            "byteLimit": 2048000,
            "rowLimit": 10000
          },
          "inputWidgets": {},
          "nuid": "4dafce05-97ad-404b-a567-4df2b5988e4b",
          "showTitle": false,
          "title": ""
        },
        "id": "vRF_SfCZhTWt"
      },
      "source": [
        "## **Start Streaming**"
      ]
    },
    {
      "cell_type": "code",
      "execution_count": null,
      "metadata": {
        "application/vnd.databricks.v1+cell": {
          "cellMetadata": {
            "byteLimit": 2048000,
            "rowLimit": 10000
          },
          "inputWidgets": {},
          "nuid": "15904967-e3e9-45db-9492-3525ca92c90c",
          "showTitle": false,
          "title": ""
        },
        "id": "14glkKsHhTWt"
      },
      "outputs": [],
      "source": [
        "topic = \"viewstream\"\n",
        "streaming_df = spark.readStream\\\n",
        "                  .format(\"kafka\")\\\n",
        "                  .option(\"kafka.bootstrap.servers\", kafka_server)\\\n",
        "                  .option(\"subscribe\", topic)\\\n",
        "                  .option(\"startingOffsets\", \"earliest\")\\\n",
        "                  .option(\"failOnDataLoss\",False)\\\n",
        "                  .option(\"maxOffsetsPerTrigger\", OFFSETS_PER_TRIGGER )\\\n",
        "                  .load()\\\n",
        "                  .select(from_csv(decode(\"value\", \"US-ASCII\"), schema=SCHEMA).alias(\"value\")).select(\"value.*\")"
      ]
    },
    {
      "cell_type": "code",
      "execution_count": null,
      "metadata": {
        "application/vnd.databricks.v1+cell": {
          "cellMetadata": {
            "byteLimit": 2048000,
            "rowLimit": 10000
          },
          "inputWidgets": {},
          "nuid": "9e9911ee-d23c-4049-b176-f2f4a61ce141",
          "showTitle": false,
          "title": ""
        },
        "id": "0mxHNyWthTWt",
        "outputId": "4982554d-f4d5-4bc3-c475-c159c10dd298"
      },
      "outputs": [
        {
          "output_type": "stream",
          "name": "stdout",
          "text": [
            "label0_dev3_batch_1\n+-----------+-------------------+\n|station_num|          diff_rank|\n+-----------+-------------------+\n|      32645|0.37672687029659135|\n|      11164| 0.3336201859229747|\n|      10918|0.25828331119964587|\n|      14321|0.24655068614431164|\n|      10057|0.22001062416998662|\n|      11713|0.19934218680832222|\n|      10035|0.18709606020362957|\n+-----------+-------------------+\nonly showing top 7 rows\n\nlabel1_dev3_batch_1\n+-----------+-------------------+\n|station_num|          diff_rank|\n+-----------+-------------------+\n|      16374| 0.3074601226993867|\n|      10035|0.30552147239263805|\n|      10179| 0.2853006134969327|\n|      59303| 0.2174355828220859|\n|      32677|0.18812269938650306|\n|      60150|  0.175840490797546|\n|      60179|0.16919631901840493|\n+-----------+-------------------+\nonly showing top 7 rows\n\nlabel2_dev3_batch_1\n+-----------+-------------------+\n|station_num|          diff_rank|\n+-----------+-------------------+\n|      65342| 0.3237457741717377|\n|      16615|  0.320845165652468|\n|      55887|0.29271264367816086|\n|      68827| 0.2758728870858689|\n|      10139|  0.257552400270453|\n|      11865|0.24309939148073023|\n|      12131|0.23419878296146057|\n+-----------+-------------------+\nonly showing top 7 rows\n\nlabel3_dev3_batch_1\n+-----------+------------------+\n|station_num|         diff_rank|\n+-----------+------------------+\n|      11118|1.7040492813141683|\n|      64490|1.1020410677618069|\n|      59684|0.9167022587268994|\n|      44714|0.7933552361396304|\n|      10171|0.7693880903490757|\n|      14321|0.7020410677618067|\n|      58574|0.6767022587268993|\n+-----------+------------------+\nonly showing top 7 rows\n\nlabel4_dev3_batch_1\n+-----------+------------------+\n|station_num|         diff_rank|\n+-----------+------------------+\n|      10171|1.5503023255813952|\n|      10179|1.3236976744186042|\n|      11561|1.2361627906976742|\n|      11706| 1.134813953488372|\n|      70387|1.0048139534883722|\n|      14767|0.8834651162790697|\n|      35513|0.8501162790697674|\n+-----------+------------------+\nonly showing top 7 rows\n\nlabel5_dev3_batch_1\n+-----------+-------------------+\n|station_num|          diff_rank|\n+-----------+-------------------+\n|      16374| 0.4698718535469111|\n|      10179| 0.4251624713958808|\n|      61623| 0.3960823798627001|\n|      74796| 0.3693318077803205|\n|      21214| 0.3676659038901602|\n|      10057|0.35691533180778023|\n|      16616|0.32608237986270017|\n+-----------+-------------------+\nonly showing top 7 rows\n\nlabel0_dev3_batch_2\n+-----------+-------------------+\n|station_num|          diff_rank|\n+-----------+-------------------+\n|      12852|0.32781449658515105|\n|      11713| 0.3152826613791585|\n|      11913|0.30665697290152016|\n|      11749|0.29878211059704785|\n|      32677| 0.2888446794448117|\n|      10510|0.26659440405375634|\n|      64312| 0.2609385327164574|\n+-----------+-------------------+\nonly showing top 7 rows\n\nlabel1_dev3_batch_2\n+-----------+-------------------+\n|station_num|          diff_rank|\n+-----------+-------------------+\n|      16374| 0.4232135154565062|\n|      32645|0.41989647735442137|\n|      36069|0.26438820992092005|\n|      20288|0.23148094895758448|\n|      14321|0.22863407620416953|\n|      19629|0.21726240115025158|\n|      11331| 0.2135355859094177|\n+-----------+-------------------+\nonly showing top 7 rows\n\nlabel2_dev3_batch_2\n+-----------+-------------------+\n|station_num|          diff_rank|\n+-----------+-------------------+\n|      12852| 0.5640591204037491|\n|      12131| 0.4234708002883921|\n|      10510|0.38873540014419605|\n|      58646|0.37479452054794504|\n|      66268|0.35083345349675554|\n|      57708|0.34883345349675554|\n|      14862| 0.3385392934390771|\n+-----------+-------------------+\nonly showing top 7 rows\n\nlabel3_dev3_batch_2\n+-----------+------------------+\n|station_num|         diff_rank|\n+-----------+------------------+\n|      19320|1.5633540372670807|\n|      11118|1.2057556935817806|\n|      21251|1.0417556935817804|\n|      10171|0.8783146997929608|\n|      66379|0.7851966873706004|\n|      45980|0.7401573498964804|\n|      10324|0.7181573498964804|\n+-----------+------------------+\nonly showing top 7 rows\n\nlabel4_dev3_batch_2\n+-----------+------------------+\n|station_num|         diff_rank|\n+-----------+------------------+\n|      11367|1.3804731670445958|\n|      47540|1.2248873771730915|\n|      11561| 1.108130007558579|\n|      10171|0.9604731670445957|\n|      35513|0.9162010582010581|\n|      11164|0.7709584278155708|\n|      10918|0.7617868480725624|\n+-----------+------------------+\nonly showing top 7 rows\n\nlabel5_dev3_batch_2\n+-----------+-------------------+\n|station_num|          diff_rank|\n+-----------+-------------------+\n|      10145| 0.5092274732199118|\n|      25544| 0.4901436672967864|\n|      19629| 0.4881436672967864|\n|      33585| 0.4781436672967864|\n|      11066| 0.4621436672967864|\n|      58623| 0.4521676118462508|\n|      19626|0.43110775047258987|\n+-----------+-------------------+\nonly showing top 7 rows\n\nlabel0_dev3_batch_3\n+-----------+-------------------+\n|station_num|          diff_rank|\n+-----------+-------------------+\n|      10142| 0.3862489270386269|\n|      12852| 0.3629613733905578|\n|      14765| 0.3186952789699571|\n|      19320|0.31485836909871245|\n|      11207| 0.3020429184549356|\n|      11221|0.30182832618025746|\n|      10035| 0.3009098712446352|\n+-----------+-------------------+\nonly showing top 7 rows\n\nlabel1_dev3_batch_3\n+-----------+-------------------+\n|station_num|          diff_rank|\n+-----------+-------------------+\n|      16374| 0.5186722689075631|\n|      60179| 0.3714056531703591|\n|      11713|0.33174484339190213|\n|      36069| 0.3019419404125287|\n|      10139|  0.300025974025974|\n|      82547|  0.281266615737204|\n|      14873|0.21335064935064935|\n+-----------+-------------------+\nonly showing top 7 rows\n\nlabel2_dev3_batch_3\n+-----------+-------------------+\n|station_num|          diff_rank|\n+-----------+-------------------+\n|      14902| 0.4676184530003469|\n|      57394|0.40034963579604577|\n|      44940| 0.3830357266736039|\n|      10315| 0.3829191814082553|\n|      18435| 0.3529191814082553|\n|      16615|0.31612972597988187|\n|      65342|0.30978009018383634|\n+-----------+-------------------+\nonly showing top 7 rows\n\nlabel3_dev3_batch_3\n+-----------+------------------+\n|station_num|         diff_rank|\n+-----------+------------------+\n|      10171|1.2988275862068968|\n|      44714| 1.243103448275862|\n|      19320|1.1795172413793102|\n|      17927|0.9013103448275863|\n|      35443|0.8382758620689655|\n|      10222|0.8382758620689655|\n|      10239|0.8060689655172413|\n+-----------+------------------+\nonly showing top 7 rows\n\nlabel4_dev3_batch_3\n+-----------+------------------+\n|station_num|         diff_rank|\n+-----------+------------------+\n|      70387|1.4060318725099603|\n|      10171|1.1764435590969453|\n|      12131|0.9892350597609565|\n|      11561|0.8588180610889775|\n|      11706|0.7860159362549801|\n|      14767|0.7712191235059762|\n|      44940|0.7200159362549801|\n+-----------+------------------+\nonly showing top 7 rows\n\nlabel5_dev3_batch_3\n+-----------+-------------------+\n|station_num|          diff_rank|\n+-----------+-------------------+\n|      16108| 0.5638095238095239|\n|      58623|              0.554|\n|      10178| 0.5308571428571428|\n|      61623|0.47276190476190477|\n|      34933| 0.4432380952380952|\n|      60048| 0.4354285714285714|\n|      11066| 0.3982857142857143|\n+-----------+-------------------+\nonly showing top 7 rows\n\nlabel0_dev3_batch_4\n+-----------+-------------------+\n|station_num|          diff_rank|\n+-----------+-------------------+\n|      11221| 0.4206583878979453|\n|      14902|0.35417836983517703|\n|      11794|0.23356920298035674|\n|      10321| 0.2326769022352676|\n|      14765| 0.2068245653646421|\n|      11116|0.19756920298035674|\n|      32645|0.19340302551365995|\n+-----------+-------------------+\nonly showing top 7 rows\n\nlabel1_dev3_batch_4\n+-----------+-------------------+\n|station_num|          diff_rank|\n+-----------+-------------------+\n|      16374| 0.4043785084202083|\n|      10139| 0.3922133119486768|\n|      35443| 0.3097802726543705|\n|      51529| 0.3085982357658379|\n|      11150|0.30565677626303134|\n|      16062|0.29953969526864477|\n|      58812|0.28553969526864476|\n+-----------+-------------------+\nonly showing top 7 rows\n\nlabel2_dev3_batch_4\n+-----------+-------------------+\n|station_num|          diff_rank|\n+-----------+-------------------+\n|      25620| 0.5909532408900354|\n|      42642| 0.5636588197355692|\n|      10244| 0.5407055788455337|\n|      19320| 0.3479438890680426|\n|      11187| 0.2913924540470816|\n|      16615| 0.2801541438245727|\n|      65342|0.27169622702354074|\n+-----------+-------------------+\nonly showing top 7 rows\n\nlabel3_dev3_batch_4\n+-----------+------------------+\n|station_num|         diff_rank|\n+-----------+------------------+\n|      10171|1.1573913043478263|\n|      16288|0.9016770186335403|\n|      44714|0.8220372670807453|\n|      26636|0.7543975155279503|\n|      62401|0.7403975155279503|\n|      59684|0.7362360248447204|\n|      12574|0.6975155279503106|\n+-----------+------------------+\nonly showing top 7 rows\n\nlabel4_dev3_batch_4\n+-----------+------------------+\n|station_num|         diff_rank|\n+-----------+------------------+\n|      70387| 1.322570082449941|\n|      11207| 1.177712603062426|\n|      35513| 1.051427561837456|\n|      14321| 1.013891637220259|\n|      10918|0.9809988221436984|\n|      14767|0.8407491166077737|\n|      11164|0.7525700824499408|\n+-----------+------------------+\nonly showing top 7 rows\n\nlabel5_dev3_batch_4\n+-----------+-------------------+\n|station_num|          diff_rank|\n+-----------+-------------------+\n|      59684| 0.5296731875719216|\n|      58623| 0.4996731875719216|\n|      10709| 0.4518365937859608|\n|      14321|0.39921058688147304|\n|      42642|0.39921058688147304|\n|      34215|0.38937399309551207|\n|      74796| 0.3825983889528193|\n+-----------+-------------------+\nonly showing top 7 rows\n\nlabel0_dev3_batch_5\n+-----------+-------------------+\n|station_num|          diff_rank|\n+-----------+-------------------+\n|      11164|0.36342168674698794|\n|      14902| 0.3594044750430294|\n|      14321|0.33549741824440615|\n|      16615| 0.3140240963855423|\n|      12852|0.30852667814113593|\n|      11221|0.30621686746987953|\n|      18279| 0.2750120481927711|\n+-----------+-------------------+\nonly showing top 7 rows\n\nlabel1_dev3_batch_5\n+-----------+-------------------+\n|station_num|          diff_rank|\n+-----------+-------------------+\n|      10139| 0.4326237683490851|\n|      16374| 0.3869040820430325|\n|      16123|0.34034345465513777|\n|      46737| 0.3043889000603257|\n|      19002| 0.2844974864267042|\n|      36069|  0.263954554594812|\n|      11150|0.22040659561632836|\n+-----------+-------------------+\nonly showing top 7 rows\n\nlabel2_dev3_batch_5\n+-----------+-------------------+\n|station_num|          diff_rank|\n+-----------+-------------------+\n|      18086| 0.5219999999999999|\n|      42642|               0.48|\n|      10179|0.42466666666666697|\n|      11221| 0.3853333333333333|\n|      87317| 0.3673333333333333|\n|      44940| 0.3493333333333333|\n|      11187|0.31466666666666665|\n+-----------+-------------------+\nonly showing top 7 rows\n\nlabel3_dev3_batch_5\n+-----------+------------------+\n|station_num|         diff_rank|\n+-----------+------------------+\n|      10171| 2.276875962360992|\n|      11097|1.9721847733105218|\n|      11118| 1.737950384944397|\n|      26636| 1.666863986313088|\n|      59684|1.4921231822070145|\n|      17927|1.4165799828913603|\n|      44714|1.1396047904191617|\n+-----------+------------------+\nonly showing top 7 rows\n\nlabel4_dev3_batch_5\n+-----------+------------------+\n|station_num|         diff_rank|\n+-----------+------------------+\n|      70387|2.1326153846153844|\n|      35513| 1.615076923076923|\n|      14909|1.2508846153846154|\n|      10171|0.9373846153846155|\n|      18086|0.8840192307692308|\n|      14767|0.7598269230769229|\n|      58623|0.7303076923076923|\n+-----------+------------------+\nonly showing top 7 rows\n\nlabel5_dev3_batch_5\n+-----------+-------------------+\n|station_num|          diff_rank|\n+-----------+-------------------+\n|      11187| 0.7366178861788619|\n|      74796| 0.6594146341463416|\n|      16374|0.47241734417344183|\n|      58623|0.42621138211382115|\n|      10142|0.36381029810298104|\n|      82547| 0.3618048780487805|\n|      10057| 0.3526070460704606|\n+-----------+-------------------+\nonly showing top 7 rows\n\n"
          ]
        }
      ],
      "source": [
        "from IPython.display import display, clear_output\n",
        "import time\n",
        "global batch_num\n",
        "batch_num = 0\n",
        "\n",
        "# Create 3rd subsets\n",
        "trds = {}\n",
        "for key, df in subsets.items():\n",
        "    if 'dev3' in key:\n",
        "        trds[key] = df\n",
        "\n",
        "def diffrank_batch(batch, epoch_id):\n",
        "    global batch_num\n",
        "\n",
        "    batch_num = epoch_id\n",
        "\n",
        "    if batch_num >= 5:\n",
        "        return\n",
        "\n",
        "    # Count viewing events per station\n",
        "    df_with_count = batch.groupBy('station_num').agg(count('*').alias('count'))\n",
        "\n",
        "    # Summing viewing events\n",
        "    df_with_sum = df_with_count.agg(sum('count').alias('sum')).distinct()\n",
        "\n",
        "    # Adding data to counting df\n",
        "    df_with_count = df_with_count.join(df_with_sum, how='left')\n",
        "\n",
        "    # Calculating percentage per station for the general public\n",
        "    df_with_percentage_gp = df_with_count.withColumn('percentage_general_public', (col('count') / col('sum')) * 100)\n",
        "\n",
        "    result = {}\n",
        "    for key, subset in trds.items():\n",
        "\n",
        "        print(f\"{key}_batch_{epoch_id+1}\")\n",
        "\n",
        "        # Join processed demographic and viewing data\n",
        "        joined_df = subset.join(batch, on='household_id', how='inner')\n",
        "\n",
        "        # Count viewing events per station per subset\n",
        "        df_with_count = joined_df.groupBy('station_num').agg(count('*').alias('count'))\n",
        "\n",
        "        # Summing viewing events per subset\n",
        "        df_with_sum = df_with_count.agg(sum('count').alias('sum')).distinct()\n",
        "\n",
        "        # Adding data to counting df\n",
        "        df_with_count = df_with_count.join(df_with_sum, how='left')\n",
        "\n",
        "        # Calculating percentage per station per subset\n",
        "        df_with_percentage_pc = df_with_count.withColumn('percentage_subset', (col('count') / col('sum')) * 100)\n",
        "\n",
        "        # Calculating diff-rank measure\n",
        "        diff_rank_df = df_with_percentage_pc.join(df_with_percentage_gp, on='station_num', how='inner').distinct()\n",
        "        diff_rank_df = diff_rank_df.withColumn('diff_rank', col('percentage_subset') - col('percentage_general_public')) \\\n",
        "                                   .select('station_num', 'diff_rank')\n",
        "\n",
        "        diff_rank_df.orderBy(col('diff_rank').desc()).show(7)\n",
        "\n",
        "\n",
        "# Call the diffrank_streaming function using foreachBatch\n",
        "diff_rank_query = streaming_df.writeStream.foreachBatch(diffrank_batch).start()\n",
        "\n",
        "while batch_num < 5:\n",
        "    time.sleep(2)\n",
        "\n",
        "diff_rank_query.stop()\n"
      ]
    }
  ],
  "metadata": {
    "application/vnd.databricks.v1+notebook": {
      "dashboards": [],
      "language": "python",
      "notebookMetadata": {
        "pythonIndentUnit": 4
      },
      "notebookName": "Untitled Notebook 2023-07-03 11:09:52",
      "widgets": {}
    },
    "colab": {
      "provenance": []
    }
  },
  "nbformat": 4,
  "nbformat_minor": 0
}